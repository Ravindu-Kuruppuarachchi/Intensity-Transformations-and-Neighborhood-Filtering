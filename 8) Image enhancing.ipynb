{
 "cells": [
  {
   "cell_type": "code",
   "execution_count": 1,
   "id": "4d855b4d",
   "metadata": {},
   "outputs": [
    {
     "ename": "AssertionError",
     "evalue": "daisy.jpg not found",
     "output_type": "error",
     "traceback": [
      "\u001b[1;31m---------------------------------------------------------------------------\u001b[0m",
      "\u001b[1;31mAssertionError\u001b[0m                            Traceback (most recent call last)",
      "Cell \u001b[1;32mIn[1], line 8\u001b[0m\n\u001b[0;32m      6\u001b[0m \u001b[38;5;66;03m# --- (a) GrabCut segmentation ---\u001b[39;00m\n\u001b[0;32m      7\u001b[0m daisy \u001b[38;5;241m=\u001b[39m cv\u001b[38;5;241m.\u001b[39mimread(\u001b[38;5;124m'\u001b[39m\u001b[38;5;124ma1images/daisy.jpg\u001b[39m\u001b[38;5;124m'\u001b[39m)\n\u001b[1;32m----> 8\u001b[0m \u001b[38;5;28;01massert\u001b[39;00m daisy \u001b[38;5;129;01mis\u001b[39;00m \u001b[38;5;129;01mnot\u001b[39;00m \u001b[38;5;28;01mNone\u001b[39;00m, \u001b[38;5;124m\"\u001b[39m\u001b[38;5;124mdaisy.jpg not found\u001b[39m\u001b[38;5;124m\"\u001b[39m\n\u001b[0;32m      9\u001b[0m h, w \u001b[38;5;241m=\u001b[39m daisy\u001b[38;5;241m.\u001b[39mshape[:\u001b[38;5;241m2\u001b[39m]\n\u001b[0;32m     11\u001b[0m \u001b[38;5;66;03m# init arrays\u001b[39;00m\n",
      "\u001b[1;31mAssertionError\u001b[0m: daisy.jpg not found"
     ]
    }
   ],
   "source": [
    "# Q9: GrabCut + blurred background\n",
    "import cv2 as cv\n",
    "import numpy as np\n",
    "import matplotlib.pyplot as plt\n",
    "\n",
    "# --- (a) GrabCut segmentation ---\n",
    "daisy = cv.imread('a1images/daisy.jpg')\n",
    "assert daisy is not None, \"daisy.jpg not found\"\n",
    "h, w = daisy.shape[:2]\n",
    "\n",
    "# init arrays\n",
    "mask = np.zeros((h, w), np.uint8)\n",
    "bgdModel = np.zeros((1, 65), np.float64)\n",
    "fgdModel = np.zeros((1, 65), np.float64)\n",
    "\n",
    "# rectangle seed (covers the flower; tweak margins if needed)\n",
    "rect = (int(0.05*w), int(0.05*h), int(0.90*w), int(0.90*h))  # (x,y,width,height)\n",
    "\n",
    "# run GrabCut with rectangle initialization\n",
    "cv.grabCut(daisy, mask, rect, bgdModel, fgdModel, iterCount=5, mode=cv.GC_INIT_WITH_RECT)\n",
    "\n",
    "# binary mask: definite or probable foreground -> 1, else 0\n",
    "mask_bin = np.where((mask == cv.GC_FGD) | (mask == cv.GC_PR_FGD), 1, 0).astype(np.uint8)\n",
    "\n",
    "# optional small cleanup\n",
    "mask_bin = cv.morphologyEx(mask_bin, cv.MORPH_OPEN, np.ones((3,3), np.uint8), iterations=1)\n",
    "\n",
    "# foreground and background images\n",
    "foreground = cv.bitwise_and(daisy, daisy, mask=mask_bin * 255)\n",
    "background = cv.bitwise_and(daisy, daisy, mask=(1 - mask_bin) * 255)\n",
    "\n",
    "# display \n",
    "\n",
    "def bgr2rgb(x): return cv.cvtColor(x, cv.COLOR_BGR2RGB)\n",
    "\n",
    "fig, ax = plt.subplots(1, 4, figsize=(16, 8), constrained_layout=True)\n",
    "ax[0,0].imshow(bgr2rgb(daisy));         ax[0,0].set_title(\"Original\");            ax[0,0].axis('off')\n",
    "ax[0,1].imshow(mask_bin, cmap='gray');  ax[0,1].set_title(\"Final mask\");          ax[0,1].axis('off')\n",
    "ax[0,2].imshow(bgr2rgb(foreground));    ax[0,2].set_title(\"Foreground\");          ax[0,2].axis('off')\n",
    "ax[0,3].imshow(bgr2rgb(background));    ax[0,3].set_title(\"Background\");          ax[0,3].axis('off')\n",
    "\n",
    "plt.show()\n"
   ]
  }
 ],
 "metadata": {
  "kernelspec": {
   "display_name": "Python 3",
   "language": "python",
   "name": "python3"
  },
  "language_info": {
   "codemirror_mode": {
    "name": "ipython",
    "version": 3
   },
   "file_extension": ".py",
   "mimetype": "text/x-python",
   "name": "python",
   "nbconvert_exporter": "python",
   "pygments_lexer": "ipython3",
   "version": "3.11.3"
  }
 },
 "nbformat": 4,
 "nbformat_minor": 5
}
